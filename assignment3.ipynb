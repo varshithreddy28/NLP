{
  "nbformat": 4,
  "nbformat_minor": 0,
  "metadata": {
    "colab": {
      "provenance": [],
      "collapsed_sections": [],
      "toc_visible": true
    },
    "kernelspec": {
      "name": "python3",
      "display_name": "Python 3"
    },
    "language_info": {
      "name": "python"
    },
    "widgets": {
      "application/vnd.jupyter.widget-state+json": {
        "589978040406404580fc93d31a3a85de": {
          "model_module": "@jupyter-widgets/controls",
          "model_name": "HBoxModel",
          "model_module_version": "1.5.0",
          "state": {
            "_dom_classes": [],
            "_model_module": "@jupyter-widgets/controls",
            "_model_module_version": "1.5.0",
            "_model_name": "HBoxModel",
            "_view_count": null,
            "_view_module": "@jupyter-widgets/controls",
            "_view_module_version": "1.5.0",
            "_view_name": "HBoxView",
            "box_style": "",
            "children": [
              "IPY_MODEL_297e14db2c2246509348f99d3fc24c6e",
              "IPY_MODEL_a4eb98a94bd64a4c9a764aae3db76b66",
              "IPY_MODEL_d4ac18f833fb49d4b30d52a351540f10"
            ],
            "layout": "IPY_MODEL_4dda68acbb424ab29da59d8e8ee316a2"
          }
        },
        "297e14db2c2246509348f99d3fc24c6e": {
          "model_module": "@jupyter-widgets/controls",
          "model_name": "HTMLModel",
          "model_module_version": "1.5.0",
          "state": {
            "_dom_classes": [],
            "_model_module": "@jupyter-widgets/controls",
            "_model_module_version": "1.5.0",
            "_model_name": "HTMLModel",
            "_view_count": null,
            "_view_module": "@jupyter-widgets/controls",
            "_view_module_version": "1.5.0",
            "_view_name": "HTMLView",
            "description": "",
            "description_tooltip": null,
            "layout": "IPY_MODEL_c2f46b30d08943059225ebf92da58f1b",
            "placeholder": "​",
            "style": "IPY_MODEL_1a45c473e2004e389fdc40ed5f39b8b7",
            "value": ""
          }
        },
        "a4eb98a94bd64a4c9a764aae3db76b66": {
          "model_module": "@jupyter-widgets/controls",
          "model_name": "FloatProgressModel",
          "model_module_version": "1.5.0",
          "state": {
            "_dom_classes": [],
            "_model_module": "@jupyter-widgets/controls",
            "_model_module_version": "1.5.0",
            "_model_name": "FloatProgressModel",
            "_view_count": null,
            "_view_module": "@jupyter-widgets/controls",
            "_view_module_version": "1.5.0",
            "_view_name": "ProgressView",
            "bar_style": "success",
            "description": "",
            "description_tooltip": null,
            "layout": "IPY_MODEL_cab87d0e9d8f430e96e547ac9b81aa8e",
            "max": 1,
            "min": 0,
            "orientation": "horizontal",
            "style": "IPY_MODEL_ca6021dea81142a092840ffdf25b59d0",
            "value": 0
          }
        },
        "d4ac18f833fb49d4b30d52a351540f10": {
          "model_module": "@jupyter-widgets/controls",
          "model_name": "HTMLModel",
          "model_module_version": "1.5.0",
          "state": {
            "_dom_classes": [],
            "_model_module": "@jupyter-widgets/controls",
            "_model_module_version": "1.5.0",
            "_model_name": "HTMLModel",
            "_view_count": null,
            "_view_module": "@jupyter-widgets/controls",
            "_view_module_version": "1.5.0",
            "_view_name": "HTMLView",
            "description": "",
            "description_tooltip": null,
            "layout": "IPY_MODEL_983cb8605ea44d158150e6bbffa29aba",
            "placeholder": "​",
            "style": "IPY_MODEL_9a61b1b7072e4a3a98c6795be7957027",
            "value": " 0/0 [00:00&lt;?, ?it/s]"
          }
        },
        "4dda68acbb424ab29da59d8e8ee316a2": {
          "model_module": "@jupyter-widgets/base",
          "model_name": "LayoutModel",
          "model_module_version": "1.2.0",
          "state": {
            "_model_module": "@jupyter-widgets/base",
            "_model_module_version": "1.2.0",
            "_model_name": "LayoutModel",
            "_view_count": null,
            "_view_module": "@jupyter-widgets/base",
            "_view_module_version": "1.2.0",
            "_view_name": "LayoutView",
            "align_content": null,
            "align_items": null,
            "align_self": null,
            "border": null,
            "bottom": null,
            "display": null,
            "flex": null,
            "flex_flow": null,
            "grid_area": null,
            "grid_auto_columns": null,
            "grid_auto_flow": null,
            "grid_auto_rows": null,
            "grid_column": null,
            "grid_gap": null,
            "grid_row": null,
            "grid_template_areas": null,
            "grid_template_columns": null,
            "grid_template_rows": null,
            "height": null,
            "justify_content": null,
            "justify_items": null,
            "left": null,
            "margin": null,
            "max_height": null,
            "max_width": null,
            "min_height": null,
            "min_width": null,
            "object_fit": null,
            "object_position": null,
            "order": null,
            "overflow": null,
            "overflow_x": null,
            "overflow_y": null,
            "padding": null,
            "right": null,
            "top": null,
            "visibility": null,
            "width": null
          }
        },
        "c2f46b30d08943059225ebf92da58f1b": {
          "model_module": "@jupyter-widgets/base",
          "model_name": "LayoutModel",
          "model_module_version": "1.2.0",
          "state": {
            "_model_module": "@jupyter-widgets/base",
            "_model_module_version": "1.2.0",
            "_model_name": "LayoutModel",
            "_view_count": null,
            "_view_module": "@jupyter-widgets/base",
            "_view_module_version": "1.2.0",
            "_view_name": "LayoutView",
            "align_content": null,
            "align_items": null,
            "align_self": null,
            "border": null,
            "bottom": null,
            "display": null,
            "flex": null,
            "flex_flow": null,
            "grid_area": null,
            "grid_auto_columns": null,
            "grid_auto_flow": null,
            "grid_auto_rows": null,
            "grid_column": null,
            "grid_gap": null,
            "grid_row": null,
            "grid_template_areas": null,
            "grid_template_columns": null,
            "grid_template_rows": null,
            "height": null,
            "justify_content": null,
            "justify_items": null,
            "left": null,
            "margin": null,
            "max_height": null,
            "max_width": null,
            "min_height": null,
            "min_width": null,
            "object_fit": null,
            "object_position": null,
            "order": null,
            "overflow": null,
            "overflow_x": null,
            "overflow_y": null,
            "padding": null,
            "right": null,
            "top": null,
            "visibility": null,
            "width": null
          }
        },
        "1a45c473e2004e389fdc40ed5f39b8b7": {
          "model_module": "@jupyter-widgets/controls",
          "model_name": "DescriptionStyleModel",
          "model_module_version": "1.5.0",
          "state": {
            "_model_module": "@jupyter-widgets/controls",
            "_model_module_version": "1.5.0",
            "_model_name": "DescriptionStyleModel",
            "_view_count": null,
            "_view_module": "@jupyter-widgets/base",
            "_view_module_version": "1.2.0",
            "_view_name": "StyleView",
            "description_width": ""
          }
        },
        "cab87d0e9d8f430e96e547ac9b81aa8e": {
          "model_module": "@jupyter-widgets/base",
          "model_name": "LayoutModel",
          "model_module_version": "1.2.0",
          "state": {
            "_model_module": "@jupyter-widgets/base",
            "_model_module_version": "1.2.0",
            "_model_name": "LayoutModel",
            "_view_count": null,
            "_view_module": "@jupyter-widgets/base",
            "_view_module_version": "1.2.0",
            "_view_name": "LayoutView",
            "align_content": null,
            "align_items": null,
            "align_self": null,
            "border": null,
            "bottom": null,
            "display": null,
            "flex": null,
            "flex_flow": null,
            "grid_area": null,
            "grid_auto_columns": null,
            "grid_auto_flow": null,
            "grid_auto_rows": null,
            "grid_column": null,
            "grid_gap": null,
            "grid_row": null,
            "grid_template_areas": null,
            "grid_template_columns": null,
            "grid_template_rows": null,
            "height": null,
            "justify_content": null,
            "justify_items": null,
            "left": null,
            "margin": null,
            "max_height": null,
            "max_width": null,
            "min_height": null,
            "min_width": null,
            "object_fit": null,
            "object_position": null,
            "order": null,
            "overflow": null,
            "overflow_x": null,
            "overflow_y": null,
            "padding": null,
            "right": null,
            "top": null,
            "visibility": null,
            "width": "20px"
          }
        },
        "ca6021dea81142a092840ffdf25b59d0": {
          "model_module": "@jupyter-widgets/controls",
          "model_name": "ProgressStyleModel",
          "model_module_version": "1.5.0",
          "state": {
            "_model_module": "@jupyter-widgets/controls",
            "_model_module_version": "1.5.0",
            "_model_name": "ProgressStyleModel",
            "_view_count": null,
            "_view_module": "@jupyter-widgets/base",
            "_view_module_version": "1.2.0",
            "_view_name": "StyleView",
            "bar_color": null,
            "description_width": ""
          }
        },
        "983cb8605ea44d158150e6bbffa29aba": {
          "model_module": "@jupyter-widgets/base",
          "model_name": "LayoutModel",
          "model_module_version": "1.2.0",
          "state": {
            "_model_module": "@jupyter-widgets/base",
            "_model_module_version": "1.2.0",
            "_model_name": "LayoutModel",
            "_view_count": null,
            "_view_module": "@jupyter-widgets/base",
            "_view_module_version": "1.2.0",
            "_view_name": "LayoutView",
            "align_content": null,
            "align_items": null,
            "align_self": null,
            "border": null,
            "bottom": null,
            "display": null,
            "flex": null,
            "flex_flow": null,
            "grid_area": null,
            "grid_auto_columns": null,
            "grid_auto_flow": null,
            "grid_auto_rows": null,
            "grid_column": null,
            "grid_gap": null,
            "grid_row": null,
            "grid_template_areas": null,
            "grid_template_columns": null,
            "grid_template_rows": null,
            "height": null,
            "justify_content": null,
            "justify_items": null,
            "left": null,
            "margin": null,
            "max_height": null,
            "max_width": null,
            "min_height": null,
            "min_width": null,
            "object_fit": null,
            "object_position": null,
            "order": null,
            "overflow": null,
            "overflow_x": null,
            "overflow_y": null,
            "padding": null,
            "right": null,
            "top": null,
            "visibility": null,
            "width": null
          }
        },
        "9a61b1b7072e4a3a98c6795be7957027": {
          "model_module": "@jupyter-widgets/controls",
          "model_name": "DescriptionStyleModel",
          "model_module_version": "1.5.0",
          "state": {
            "_model_module": "@jupyter-widgets/controls",
            "_model_module_version": "1.5.0",
            "_model_name": "DescriptionStyleModel",
            "_view_count": null,
            "_view_module": "@jupyter-widgets/base",
            "_view_module_version": "1.2.0",
            "_view_name": "StyleView",
            "description_width": ""
          }
        }
      }
    }
  },
  "cells": [
    {
      "cell_type": "code",
      "execution_count": 1,
      "metadata": {
        "id": "FX1Xf3Ngf4sf"
      },
      "outputs": [],
      "source": [
        "para = '''A paragraph is a series of sentences that are organized and coherent, and are all related to a single topic. Almost every piece of writing you do that is longer than a few sentences should be organized into paragraphs. This is because paragraphs show a reader where the subdivisions of an essay begin and end, and thus help the reader see the organization of the essay and grasp its main points. Paragraphs can contain many different kinds of information. A paragraph could contain a series of brief examples or a single long illustration of a general point. It might describe a place, character, or process; narrate a series of events; compare or contrast two or more things; classify items into categories; or describe causes and effects. Regardless of the kind of information they contain, all paragraphs share certain characteristics. One of the most important of these is a topic sentence.'''"
      ]
    },
    {
      "cell_type": "code",
      "source": [
        "para"
      ],
      "metadata": {
        "colab": {
          "base_uri": "https://localhost:8080/",
          "height": 144
        },
        "id": "Zm5wPGHagSjd",
        "outputId": "57523886-68ac-48fd-9d9a-d9652f666c6f"
      },
      "execution_count": 2,
      "outputs": [
        {
          "output_type": "execute_result",
          "data": {
            "text/plain": [
              "'A paragraph is a series of sentences that are organized and coherent, and are all related to a single topic. Almost every piece of writing you do that is longer than a few sentences should be organized into paragraphs. This is because paragraphs show a reader where the subdivisions of an essay begin and end, and thus help the reader see the organization of the essay and grasp its main points. Paragraphs can contain many different kinds of information. A paragraph could contain a series of brief examples or a single long illustration of a general point. It might describe a place, character, or process; narrate a series of events; compare or contrast two or more things; classify items into categories; or describe causes and effects. Regardless of the kind of information they contain, all paragraphs share certain characteristics. One of the most important of these is a topic sentence.'"
            ],
            "application/vnd.google.colaboratory.intrinsic+json": {
              "type": "string"
            }
          },
          "metadata": {},
          "execution_count": 2
        }
      ]
    },
    {
      "cell_type": "code",
      "source": [
        "import numpy as np\n",
        "import nltk\n",
        "import torch\n",
        "import transformers\n",
        "import spacy\n",
        "import tensorflow_hub as hub\n",
        "import tensorflow.compat.v1 as tf\n",
        "from spacy import displacy\n",
        "from nltk.corpus import stopwords\n",
        "from gensim.models import Word2Vec\n",
        "from sentence_transformers import SentenceTransformer\n",
        "from nltk.tokenize import word_tokenize, sent_tokenize\n",
        "from nltk.tokenize import PunktSentenceTokenizer"
      ],
      "metadata": {
        "colab": {
          "base_uri": "https://localhost:8080/",
          "height": 105,
          "referenced_widgets": [
            "589978040406404580fc93d31a3a85de",
            "297e14db2c2246509348f99d3fc24c6e",
            "a4eb98a94bd64a4c9a764aae3db76b66",
            "d4ac18f833fb49d4b30d52a351540f10",
            "4dda68acbb424ab29da59d8e8ee316a2",
            "c2f46b30d08943059225ebf92da58f1b",
            "1a45c473e2004e389fdc40ed5f39b8b7",
            "cab87d0e9d8f430e96e547ac9b81aa8e",
            "ca6021dea81142a092840ffdf25b59d0",
            "983cb8605ea44d158150e6bbffa29aba",
            "9a61b1b7072e4a3a98c6795be7957027"
          ]
        },
        "id": "z2HRMtAKgVWK",
        "outputId": "6d5f8333-1da9-48a3-a978-ced36f79a0cd"
      },
      "execution_count": 3,
      "outputs": [
        {
          "output_type": "stream",
          "name": "stderr",
          "text": [
            "The cache for model files in Transformers v4.22.0 has been updated. Migrating your old cache. This is a one-time only operation. You can interrupt this and resume the migration later on by calling `transformers.utils.move_cache()`.\n"
          ]
        },
        {
          "output_type": "stream",
          "name": "stdout",
          "text": [
            "Moving 0 files to the new cache system\n"
          ]
        },
        {
          "output_type": "display_data",
          "data": {
            "text/plain": [
              "0it [00:00, ?it/s]"
            ],
            "application/vnd.jupyter.widget-view+json": {
              "version_major": 2,
              "version_minor": 0,
              "model_id": "589978040406404580fc93d31a3a85de"
            }
          },
          "metadata": {}
        }
      ]
    },
    {
      "cell_type": "code",
      "source": [
        "nltk.download('punkt')\n",
        "nltk.download('stopwords')\n",
        "nltk.download('averaged_perceptron_tagger')"
      ],
      "metadata": {
        "colab": {
          "base_uri": "https://localhost:8080/"
        },
        "id": "l2cI8R98hTGz",
        "outputId": "e7f27df0-362b-4135-9d76-5fae2266a5e8"
      },
      "execution_count": 38,
      "outputs": [
        {
          "output_type": "stream",
          "name": "stderr",
          "text": [
            "[nltk_data] Downloading package punkt to /root/nltk_data...\n",
            "[nltk_data]   Package punkt is already up-to-date!\n",
            "[nltk_data] Downloading package stopwords to /root/nltk_data...\n",
            "[nltk_data]   Package stopwords is already up-to-date!\n",
            "[nltk_data] Downloading package averaged_perceptron_tagger to\n",
            "[nltk_data]     /root/nltk_data...\n",
            "[nltk_data]   Package averaged_perceptron_tagger is already up-to-\n",
            "[nltk_data]       date!\n"
          ]
        },
        {
          "output_type": "execute_result",
          "data": {
            "text/plain": [
              "True"
            ]
          },
          "metadata": {},
          "execution_count": 38
        }
      ]
    },
    {
      "cell_type": "code",
      "source": [
        "# Convert paragraph into list of sentences\n",
        "tokenizer = nltk.data.load('tokenizers/punkt/english.pickle')\n",
        "raw_sentences = tokenizer.tokenize(para.strip())\n",
        "sentences = [sentence for sentence in raw_sentences if len(sentence) > 0]\n",
        "print('Sentences :')\n",
        "print(sentences, end='\\n\\n\\n')"
      ],
      "metadata": {
        "colab": {
          "base_uri": "https://localhost:8080/"
        },
        "id": "mmv4nDRNgmMl",
        "outputId": "7981eff0-b383-4c04-c4a4-5d856777611c"
      },
      "execution_count": 4,
      "outputs": [
        {
          "output_type": "stream",
          "name": "stdout",
          "text": [
            "Sentences :\n",
            "['A paragraph is a series of sentences that are organized and coherent, and are all related to a single topic.', 'Almost every piece of writing you do that is longer than a few sentences should be organized into paragraphs.', 'This is because paragraphs show a reader where the subdivisions of an essay begin and end, and thus help the reader see the organization of the essay and grasp its main points.', 'Paragraphs can contain many different kinds of information.', 'A paragraph could contain a series of brief examples or a single long illustration of a general point.', 'It might describe a place, character, or process; narrate a series of events; compare or contrast two or more things; classify items into categories; or describe causes and effects.', 'Regardless of the kind of information they contain, all paragraphs share certain characteristics.', 'One of the most important of these is a topic sentence.']\n",
            "\n",
            "\n"
          ]
        }
      ]
    },
    {
      "cell_type": "code",
      "source": [
        "# 1.i) Word2Vec\n",
        "\n",
        "wordvecs = [nltk.word_tokenize(sentence) for sentence in sentences]\n",
        "stop_words = list(set(stopwords.words(\"english\")))\n",
        "\n",
        "for sentence in wordvecs:\n",
        "    for word in sentence:\n",
        "        if word in stop_words:\n",
        "            sentence.remove(word)\n",
        "\n",
        "model = Word2Vec(wordvecs, min_count=1)\n",
        "\n",
        "# Vector for word 'sentence'\n",
        "print('Vector for word \"sentence\" : ')\n",
        "print(model.wv['sentence'])"
      ],
      "metadata": {
        "colab": {
          "base_uri": "https://localhost:8080/"
        },
        "id": "Cyg4el6hhQ0x",
        "outputId": "823838db-2ca8-458c-c214-acd4cbb2ff81"
      },
      "execution_count": 5,
      "outputs": [
        {
          "output_type": "stream",
          "name": "stderr",
          "text": [
            "WARNING:gensim.models.base_any2vec:under 10 jobs per worker: consider setting a smaller `batch_words' for smoother alpha decay\n"
          ]
        },
        {
          "output_type": "stream",
          "name": "stdout",
          "text": [
            "Vector for word \"sentence\" : \n",
            "[ 6.0347753e-04  3.7514158e-03 -4.5773359e-03 -1.3764277e-03\n",
            "  2.0012059e-03  2.0728500e-03  2.6279264e-03  4.3870611e-03\n",
            " -2.5364948e-03 -2.0148912e-04 -1.1314824e-03  1.7957615e-05\n",
            "  1.7568787e-03 -4.1548072e-04 -2.4156375e-03  1.6446401e-03\n",
            "  1.3864461e-03 -6.9752429e-04 -1.9017775e-03  7.9472450e-04\n",
            " -1.7543996e-03  2.4456582e-03  4.3933643e-03 -1.0579716e-03\n",
            "  1.8010638e-04 -6.7879102e-04  4.2462624e-03 -1.4603051e-03\n",
            " -1.8175399e-03 -4.2822547e-03 -4.4280519e-03 -3.9219777e-03\n",
            "  4.9678935e-03  2.3596936e-03 -3.5515763e-03  2.2862533e-03\n",
            "  8.9634839e-04 -1.2832240e-03  6.6427368e-05  1.8717718e-03\n",
            " -1.2962266e-03 -4.4023818e-03 -1.0836938e-03  2.9238665e-03\n",
            "  1.5134945e-03 -7.7210505e-05  2.2671104e-03 -5.3429761e-04\n",
            "  4.9312217e-03  2.4417371e-03  3.7531301e-03  4.5012143e-03\n",
            "  2.3243505e-04  1.6363548e-03  3.4421652e-03  3.6332740e-03\n",
            "  2.6970885e-03  1.7557279e-03 -1.9867085e-03  1.8741086e-03\n",
            "  3.1472641e-04  3.1674630e-03  3.8985212e-04  1.2619584e-03\n",
            " -1.6024177e-03  1.5656217e-03  3.4969773e-03  1.8660799e-03\n",
            "  2.3387787e-03 -4.3980667e-04  7.9645129e-04 -3.1071070e-03\n",
            "  3.6955501e-03  4.9078148e-03  3.2809163e-03  1.6605093e-04\n",
            "  4.3114829e-03 -4.0112673e-03  4.9145767e-03 -4.0804669e-03\n",
            " -5.5090169e-04 -2.7036068e-03 -4.9904878e-03  4.2455574e-03\n",
            " -9.4652336e-05 -4.2766533e-03 -6.4272853e-04  2.3736511e-03\n",
            "  3.3997118e-03  2.6115487e-04 -1.0392577e-03 -3.4386201e-03\n",
            " -1.0573914e-03 -1.6603807e-03 -2.1152361e-03 -1.2914325e-03\n",
            " -1.5312503e-03 -4.8932456e-03 -2.8238012e-04 -2.2562831e-03]\n"
          ]
        }
      ]
    },
    {
      "cell_type": "code",
      "source": [
        "# 1.ii) USE\n",
        "\n",
        "embed = hub.load(\"https://tfhub.dev/google/universal-sentence-encoder/4\")\n",
        "embeddings = embed(sentences)\n",
        "print(embeddings, '\\n\\n')\n",
        "for i in range(2):\n",
        "    print('Sentence :')\n",
        "    print(sentences[i])\n",
        "    print('Converted to :')\n",
        "    print(embeddings[i], '\\n\\n')"
      ],
      "metadata": {
        "colab": {
          "base_uri": "https://localhost:8080/"
        },
        "id": "x4OHYS6IhYTv",
        "outputId": "a30168cf-8c00-46d1-d1d8-54d93a20f167"
      },
      "execution_count": 6,
      "outputs": [
        {
          "output_type": "stream",
          "name": "stdout",
          "text": [
            "tf.Tensor(\n",
            "[[ 0.01168496 -0.03060572  0.06116336 ... -0.08641755  0.0002505\n",
            "   0.05482749]\n",
            " [ 0.02972507 -0.03655469  0.08002593 ... -0.07038905 -0.0283213\n",
            "   0.04804676]\n",
            " [ 0.07221661 -0.04182237  0.05336686 ... -0.06942353  0.01795934\n",
            "   0.06641504]\n",
            " ...\n",
            " [ 0.01586947 -0.05243036  0.0606509  ... -0.06435591  0.04215747\n",
            "   0.06304204]\n",
            " [ 0.04141247  0.02588907 -0.0062563  ... -0.02162989  0.00910817\n",
            "   0.03623575]\n",
            " [ 0.01578411 -0.02142678  0.00402448 ... -0.09605585 -0.06707881\n",
            "   0.07970381]], shape=(8, 512), dtype=float32) \n",
            "\n",
            "\n",
            "Sentence :\n",
            "A paragraph is a series of sentences that are organized and coherent, and are all related to a single topic.\n",
            "Converted to :\n",
            "tf.Tensor(\n",
            "[ 1.16849625e-02 -3.06057241e-02  6.11633621e-02  8.47723782e-02\n",
            " -5.83404116e-03  2.84162583e-03  2.59479079e-02  3.90261016e-03\n",
            " -5.55586144e-02  5.68111017e-02 -8.95012915e-03 -4.50471742e-03\n",
            " -6.06310219e-02  3.18566561e-02 -6.86047673e-02 -9.39451605e-02\n",
            " -4.23613675e-02  3.93056758e-02 -9.02280435e-02 -5.53663708e-02\n",
            " -1.92777591e-03  5.99909946e-02  9.42121912e-03  6.07980080e-02\n",
            " -5.22598810e-03  1.28727769e-02 -2.15456802e-02 -4.93354201e-02\n",
            " -6.26406254e-05 -4.05308828e-02  7.90260956e-02 -5.32253552e-03\n",
            " -2.70440103e-03 -1.01282876e-02 -6.41689077e-02  2.35941112e-02\n",
            "  4.94743027e-02  1.76912714e-02 -7.69228023e-03  2.03443561e-02\n",
            "  1.55387642e-02  4.64376137e-02  3.61865610e-02  4.38465513e-02\n",
            "  6.95741251e-02  2.37604640e-02 -1.20333163e-03 -4.55584005e-02\n",
            " -3.44719514e-02  1.63743664e-02 -2.70779571e-03  5.60244247e-02\n",
            "  4.04605555e-04 -1.96648743e-02 -3.91405225e-02 -9.61555261e-03\n",
            "  2.14325567e-03  5.61527051e-02  2.82766800e-02  1.80720557e-02\n",
            "  1.23768335e-03 -3.25148106e-02  4.19939868e-02  6.37653470e-02\n",
            "  5.56223281e-02  1.44277038e-02  4.99182940e-02 -1.93575602e-02\n",
            "  5.64282686e-02 -6.90750107e-02  1.60085864e-03  2.10034382e-02\n",
            "  3.52526866e-02  6.35948032e-02 -7.65628293e-02  5.87279573e-02\n",
            " -4.10688967e-02  3.31177264e-02 -2.83569773e-03  7.48986285e-03\n",
            " -3.19783837e-02 -6.25580326e-02  4.89425063e-02  3.36479768e-02\n",
            "  2.12714802e-02  4.28446010e-03 -9.05695604e-04 -4.36472381e-03\n",
            " -9.23611373e-02 -3.89573909e-02  3.30829546e-02  9.61314328e-03\n",
            "  2.15857457e-02 -1.47692738e-02  1.38847362e-02  8.47374573e-02\n",
            " -8.47435743e-02 -4.44485135e-02  7.54610896e-02  1.65129639e-02\n",
            "  2.31740028e-02 -2.84717027e-02 -6.77682534e-02  4.24248539e-02\n",
            " -1.49503639e-02  8.38018022e-03  5.18886261e-02  3.92066427e-02\n",
            " -4.66535538e-02 -2.45939568e-02  7.14570459e-04 -3.46494955e-03\n",
            "  2.36652531e-02  3.31293717e-02 -5.71687194e-03  4.09859084e-02\n",
            " -8.35536122e-02 -1.66684203e-02 -3.52722546e-03  1.73547920e-02\n",
            "  2.53550429e-02 -2.66782343e-02 -2.51309760e-02 -4.68712226e-02\n",
            "  3.96435633e-02 -6.68356707e-03 -3.46517414e-02 -2.81814747e-02\n",
            "  4.19962592e-02 -3.24101560e-02  2.40438618e-02 -5.47125330e-03\n",
            "  2.89679859e-02  6.99753016e-02  3.75228934e-02 -8.82184058e-02\n",
            "  6.07019104e-03 -6.91123381e-02 -1.74329411e-02  2.53294185e-02\n",
            " -7.28369653e-02  2.37329248e-02  4.66296040e-02  4.23278362e-02\n",
            "  5.21276854e-02 -3.55561008e-03 -1.40108112e-02  2.05670819e-02\n",
            "  7.19132945e-02 -7.66954198e-02 -3.90844978e-02 -6.40899539e-02\n",
            "  2.43546739e-02  7.42070824e-02  2.84557994e-02 -7.93435350e-02\n",
            " -1.47222299e-02  6.70734374e-03  1.02058453e-02  1.25844004e-02\n",
            "  3.10074463e-02 -4.17215005e-02  6.03259280e-02  6.22179657e-02\n",
            "  2.10032854e-02 -1.65604409e-02  4.09301184e-03 -3.35808508e-02\n",
            "  7.28031471e-02  6.09729216e-02  4.15963680e-03  8.54913294e-02\n",
            "  1.31301386e-02 -6.34360593e-03 -5.07236086e-02  7.03543425e-02\n",
            "  3.73295508e-02  3.42008099e-02 -3.79101220e-05 -6.27389550e-02\n",
            "  4.80309166e-02 -2.81623453e-02 -7.19844848e-02  1.20989718e-02\n",
            " -4.26681973e-02  1.97790973e-02 -1.35227693e-02 -5.43040968e-02\n",
            " -4.83289734e-02 -2.65408792e-02  8.23441967e-02  5.54602556e-02\n",
            "  7.81148598e-02 -4.00112383e-03  2.02439595e-02  1.84899904e-02\n",
            " -1.52465552e-02  2.18962617e-02  3.17285061e-02  7.06312209e-02\n",
            "  3.70562938e-03  2.40870584e-02  1.94732298e-03 -7.16169551e-03\n",
            " -2.68035308e-02  3.17232199e-02  8.41562822e-02  2.63580363e-02\n",
            " -2.52104383e-02 -1.10670505e-02 -5.61276972e-02  3.97370607e-02\n",
            " -5.51151559e-02  6.12288788e-02  5.18368185e-02 -1.64934061e-02\n",
            "  1.84759719e-03  6.83429018e-02  6.94626421e-02  3.78927328e-02\n",
            " -5.02522849e-02 -2.57219560e-02  7.02316985e-02  3.36491764e-02\n",
            "  5.98843908e-04 -3.67769860e-02  4.44350578e-02  1.09023489e-02\n",
            "  4.34661806e-02 -6.98098615e-02 -2.62659937e-02  2.23396681e-02\n",
            "  9.15533490e-03 -6.15917817e-02  8.41568410e-02  3.92306149e-02\n",
            "  8.92866924e-02  1.28770871e-02  1.39245335e-02 -5.68395145e-02\n",
            " -7.46639073e-02  3.65591794e-02  1.06103569e-02 -6.25316799e-02\n",
            "  1.77653804e-02 -6.67557791e-02 -6.54299483e-02  4.47695665e-02\n",
            " -2.96407975e-02 -2.13827938e-02  3.60825099e-02 -8.18173289e-02\n",
            " -1.40964659e-02  1.33901071e-02  3.07124238e-02 -9.41405520e-02\n",
            "  3.03545557e-02 -2.68576015e-02  1.81658212e-02 -3.67770456e-02\n",
            "  3.33085321e-02  9.13278088e-02 -1.94911137e-02 -1.07955048e-02\n",
            " -9.28005297e-03 -4.06911317e-03  1.46724582e-02 -4.92432937e-02\n",
            "  1.71533599e-02 -5.45221604e-02 -6.61364123e-02 -7.90792033e-02\n",
            "  2.79751848e-02  3.62354182e-02  4.38262261e-02  1.96567848e-02\n",
            " -6.87819719e-02  2.44918838e-02  7.10261464e-02  9.12545249e-02\n",
            "  6.29523173e-02  1.67941395e-02  6.54826015e-02 -4.73535480e-03\n",
            " -4.48028259e-02 -1.61742717e-02  2.20355503e-02 -4.16113250e-02\n",
            "  1.13562578e-02 -3.63931730e-02 -2.76284125e-02  2.01357082e-02\n",
            " -8.22386295e-02 -2.58972924e-02 -4.15527485e-02 -5.79356104e-02\n",
            "  7.72935897e-03  4.06588875e-02 -1.13817379e-02  4.38650511e-02\n",
            " -1.07141351e-02 -4.62955013e-02  5.65050580e-02 -6.18267581e-02\n",
            " -3.84526514e-02 -4.90092300e-02  5.23114428e-02 -5.73057532e-02\n",
            " -1.15798069e-02  5.35165612e-03  2.78308783e-02 -4.59580906e-02\n",
            "  4.34778668e-02 -1.71735901e-02 -1.64880324e-02 -3.88848744e-02\n",
            " -6.44626282e-03  8.33479688e-02  3.65923531e-02  2.13971846e-02\n",
            " -2.59777717e-02 -6.10677898e-02  5.17178811e-02 -5.09534888e-02\n",
            " -8.41620713e-02 -2.87301522e-02 -8.05718377e-02  7.76726380e-02\n",
            "  4.12431993e-02 -3.67930308e-02  2.71156337e-02 -6.33788630e-02\n",
            "  2.25471333e-02 -3.28405760e-02 -9.11881123e-03  5.93739860e-02\n",
            " -7.64809921e-03  8.31474736e-03 -6.06926996e-03  6.88906759e-02\n",
            "  5.30840755e-02 -3.67045030e-03 -2.88561042e-02 -4.73021902e-02\n",
            " -9.18376073e-02 -8.83618277e-03  7.96945244e-02  5.93198873e-02\n",
            "  3.53019126e-02  7.12427963e-03 -7.07041398e-02  1.53526133e-02\n",
            "  4.09509540e-02  7.17417430e-03  7.37813115e-02  3.77231091e-02\n",
            " -9.00578871e-02 -3.24093476e-02  1.16494400e-02 -3.81786190e-02\n",
            "  2.34411880e-02 -2.10632607e-02 -7.03862309e-02  1.52054429e-03\n",
            " -1.61061902e-02  6.18526712e-02  7.94101879e-02  5.88107808e-03\n",
            " -1.51091265e-02 -3.21430154e-02  7.52918655e-03 -1.46267074e-03\n",
            "  6.74486533e-02  8.21412131e-02  1.35811316e-02  1.83010716e-02\n",
            "  3.14529203e-02  3.24921198e-02 -1.57691799e-02 -4.33157757e-02\n",
            " -4.35551889e-02 -1.21416962e-02  3.53560923e-03  4.30949815e-02\n",
            " -2.73922738e-02  2.91704386e-02 -8.02248865e-02 -2.86437925e-02\n",
            " -1.37747321e-02 -3.15168649e-02 -1.11740930e-02 -2.86995899e-02\n",
            " -3.92324254e-02  5.84819168e-02  5.46791963e-03 -2.98926216e-02\n",
            "  5.75806433e-03 -1.14696641e-02 -1.36440666e-02  2.66200826e-02\n",
            "  2.02789833e-03  3.45309786e-02 -5.55947497e-02  4.45481129e-02\n",
            "  7.75338989e-03  3.83887403e-02 -3.04163452e-02 -3.68546396e-02\n",
            " -5.83012551e-02  4.55890112e-02  4.12782058e-02 -2.69910265e-02\n",
            "  6.76821470e-02 -4.02726382e-02 -1.81559287e-02 -3.41260359e-02\n",
            "  5.10256812e-02  1.71382017e-02 -4.04663477e-03 -5.73980510e-02\n",
            "  1.24875875e-02 -6.49295226e-02 -7.56197646e-02  1.49736758e-02\n",
            "  2.50920095e-02  6.72384948e-02  5.28013073e-02  9.06193629e-02\n",
            " -5.04058525e-02  4.25336212e-02  2.04153005e-02 -6.48177508e-03\n",
            "  2.96379179e-02  4.65666084e-03 -4.00494002e-02 -5.69047444e-02\n",
            " -1.83908269e-02  2.06823051e-02  3.54514085e-02 -9.10554156e-02\n",
            " -2.56894790e-02  8.05327892e-02 -6.87960237e-02 -1.90876797e-02\n",
            " -4.92995023e-04 -1.21406829e-02 -8.38927459e-03  8.40041507e-03\n",
            "  7.14359358e-02 -1.60705671e-02  5.72944395e-02  3.03892116e-03\n",
            " -6.78497627e-02 -6.15831316e-02  7.88365304e-02 -6.56958222e-02\n",
            "  4.85723317e-02  6.67115971e-02  8.34890753e-02 -5.98137565e-02\n",
            " -1.69116613e-02  8.24893564e-02 -6.09520636e-03 -3.53485122e-02\n",
            " -2.27540918e-02 -9.13803279e-02 -4.53933701e-02 -8.25901609e-03\n",
            "  4.79642525e-02  7.68054426e-02 -3.04625053e-02 -1.50704673e-02\n",
            " -2.30549723e-02 -8.25553108e-03 -6.91695418e-03 -4.25843114e-04\n",
            "  3.37524414e-02 -2.74846219e-02 -9.42037441e-03 -6.28642179e-03\n",
            " -2.22888868e-02 -1.39351822e-02  6.23975182e-03 -8.72642696e-02\n",
            "  1.45548712e-02 -8.02355036e-02 -3.33043113e-02 -5.46392463e-02\n",
            "  4.86492999e-02  2.14732923e-02  3.27529870e-02 -1.53550990e-02\n",
            "  5.31828627e-02  1.56334788e-02  3.91776711e-02  6.98064500e-03\n",
            " -3.86222564e-02 -2.99131311e-02  1.69515181e-02  5.10435551e-02\n",
            "  3.60743441e-02 -5.03288209e-02  5.67543395e-02  7.83906430e-02\n",
            "  6.19171113e-02 -1.52612077e-02 -1.87837277e-02 -3.86123806e-02\n",
            "  6.28505573e-02 -8.64175484e-02  2.50503188e-04  5.48274927e-02], shape=(512,), dtype=float32) \n",
            "\n",
            "\n",
            "Sentence :\n",
            "Almost every piece of writing you do that is longer than a few sentences should be organized into paragraphs.\n",
            "Converted to :\n",
            "tf.Tensor(\n",
            "[ 0.02972507 -0.03655469  0.08002593  0.02287603 -0.02667175  0.02675389\n",
            "  0.0738517   0.0738777   0.00344298  0.0615565  -0.01421661 -0.03524251\n",
            " -0.05847447  0.0570028   0.0059497  -0.08057543  0.00383086  0.00520475\n",
            "  0.00106904 -0.02401642 -0.02129656  0.06010129 -0.05534424  0.00727627\n",
            " -0.03931401 -0.00633526  0.00966343 -0.06325464 -0.07747132 -0.01298258\n",
            " -0.03757298 -0.01885736  0.02819636  0.00726104 -0.01602997 -0.02466446\n",
            "  0.06610394  0.06278811  0.02846642 -0.01255239 -0.00807451  0.00774302\n",
            "  0.05540441  0.05732686  0.04363764  0.02251688 -0.06711924 -0.05257753\n",
            " -0.00727441 -0.02157244  0.00166901 -0.07300095  0.04060852 -0.04638837\n",
            " -0.05868313  0.00985208 -0.04921523  0.03727901  0.0163124   0.02983109\n",
            " -0.0735034  -0.02681766  0.08564842  0.02193242  0.04542243  0.04971875\n",
            " -0.05848777 -0.05710073  0.0683763  -0.0568722   0.04124263 -0.04728999\n",
            "  0.02830315  0.02164793  0.02789933  0.03820241 -0.08752061  0.05860764\n",
            "  0.05308242 -0.06889061 -0.02139432 -0.02491207 -0.0209242   0.02537949\n",
            "  0.0016811   0.01051668  0.02133182 -0.00704854 -0.08912382 -0.05155019\n",
            "  0.03348397  0.05512236  0.02176908 -0.06255657  0.04591913  0.09793774\n",
            " -0.09715817 -0.06321196  0.06535351 -0.09554327 -0.01429107  0.00351912\n",
            " -0.05746913 -0.04086669 -0.03405275 -0.06157102  0.05792287 -0.00342987\n",
            " -0.00026157 -0.02865481 -0.06313823 -0.00309741 -0.01870382  0.04715633\n",
            " -0.00242312 -0.00238534 -0.06354458  0.03023451 -0.02588298 -0.0471801\n",
            " -0.01191312 -0.04766962 -0.04527168 -0.04596618  0.00552474  0.01958748\n",
            " -0.06068759 -0.05092222  0.04927927 -0.03886389  0.07345071 -0.03626852\n",
            " -0.03373667  0.06312011  0.0436017  -0.08496446  0.00232651 -0.0367032\n",
            "  0.007971    0.05722296 -0.04800617  0.02027796  0.02751365  0.0545282\n",
            " -0.04505732  0.06007592 -0.01326958  0.00336026  0.05255718 -0.05769961\n",
            " -0.04228612 -0.07224745 -0.00543898  0.04229787  0.03959085 -0.05267498\n",
            "  0.02007372 -0.00461791  0.08139772  0.03152772  0.01738844  0.00649813\n",
            "  0.06606879  0.05416893 -0.05785801  0.02081553 -0.02234735  0.00181178\n",
            "  0.0648282  -0.02867476 -0.01527441  0.04817075 -0.06536276  0.04709604\n",
            " -0.03528839  0.05088417 -0.01257087 -0.00915416 -0.010033   -0.05880005\n",
            "  0.07240986 -0.09302349  0.03752574 -0.0251401   0.06850328  0.00652437\n",
            "  0.00365576  0.043429   -0.08131151  0.06975104  0.09262232  0.0635918\n",
            "  0.04911303  0.0169254   0.01782703 -0.02360866 -0.03907127  0.00546928\n",
            "  0.03592726 -0.04129579 -0.0511081   0.05048423  0.01338657 -0.06962404\n",
            " -0.05260753  0.02823755 -0.01775639 -0.02082028  0.00385469 -0.0663067\n",
            " -0.0266896   0.00043903 -0.01627909  0.02789133  0.05028972  0.03459032\n",
            " -0.05370478  0.03950522  0.00895612  0.0352134  -0.01680933 -0.05544603\n",
            "  0.04528451 -0.04759533 -0.06803499  0.0465601  -0.05383828 -0.0298524\n",
            "  0.04797472 -0.03189939 -0.04297221  0.00343834 -0.01343421 -0.00264295\n",
            "  0.07915507 -0.03114968  0.03261779 -0.04163604 -0.02340097 -0.01881002\n",
            " -0.07161127  0.063668   -0.05452849 -0.04838844  0.03008177 -0.04663074\n",
            " -0.0875954   0.08257021 -0.03363618  0.05163509 -0.03975829 -0.05609583\n",
            " -0.02772729 -0.00689263  0.00714194 -0.09595741  0.01104476  0.05637864\n",
            "  0.03615609 -0.02920651  0.01123847  0.05871916 -0.06588512  0.00319342\n",
            "  0.01796548  0.07878965  0.02640137 -0.00767149  0.00845384 -0.02461739\n",
            "  0.02170021 -0.02998986 -0.00863425  0.04673233  0.08065628 -0.0055741\n",
            "  0.00767278 -0.00821623  0.07989196  0.08597022  0.05129911  0.01406684\n",
            " -0.01903578  0.05148869 -0.02773532 -0.05862101 -0.03774746  0.02019465\n",
            "  0.03153782 -0.07280298 -0.03707724 -0.01726766 -0.02204006 -0.00050085\n",
            " -0.02079839 -0.06563533  0.05195574  0.07736308  0.01343944  0.03339778\n",
            " -0.01032145  0.0237334   0.05223277 -0.02814554  0.03395341 -0.03533978\n",
            "  0.02461633 -0.09233128 -0.00012532  0.03016129 -0.04237779  0.02223981\n",
            "  0.00415565  0.01719411 -0.001326   -0.0219129  -0.01218891 -0.00234324\n",
            "  0.00306991 -0.00494174 -0.00306616  0.00655291 -0.01413224 -0.04437728\n",
            " -0.08545105 -0.08548019 -0.05365479  0.01439312 -0.04496574 -0.06894652\n",
            " -0.02291686 -0.07278566 -0.04186201  0.04963673  0.02059567  0.01533608\n",
            " -0.03470878  0.03012612  0.03987176  0.0707077   0.04680476 -0.02262688\n",
            "  0.06785166 -0.01899501 -0.08326991  0.00565322  0.08069144 -0.00195708\n",
            " -0.01779876  0.00565632 -0.07600196 -0.00482889 -0.02934675 -0.07585359\n",
            "  0.04919724 -0.03087114 -0.09099969 -0.02451991 -0.00027676 -0.01874575\n",
            " -0.04656482 -0.01809664  0.06168565 -0.00699503 -0.00675634  0.05648397\n",
            " -0.00716389  0.01167141  0.02355716 -0.04924567 -0.00277539 -0.02061222\n",
            " -0.00609974  0.09385079 -0.00138629  0.07769063 -0.0563895   0.01797196\n",
            " -0.06305318 -0.009691   -0.01598938 -0.04511287 -0.05543343 -0.00505934\n",
            " -0.06570258  0.00506645 -0.01819515 -0.06391877 -0.0259148   0.03963348\n",
            " -0.00881939  0.00436385 -0.00131393  0.0712148   0.02527704 -0.00054301\n",
            " -0.01459013 -0.02913881 -0.03637544 -0.02431952 -0.00744594  0.02153584\n",
            "  0.05178957  0.03296448 -0.07554182 -0.02188813 -0.05179329 -0.02884508\n",
            "  0.01252537  0.06617397  0.05274091 -0.00906112 -0.00513657 -0.01328989\n",
            " -0.00474516  0.00262938 -0.06859915  0.04438874 -0.01164251 -0.02393562\n",
            "  0.01987875 -0.0688971   0.00199375 -0.01358855 -0.04236962  0.02230766\n",
            " -0.04842484  0.07868769 -0.06556787  0.0550034  -0.01444771  0.0002948\n",
            "  0.03304755  0.06593454 -0.03330806 -0.01963175  0.01405098  0.04565128\n",
            "  0.02153062 -0.0203188  -0.01489076  0.06568865 -0.06794997  0.01543072\n",
            " -0.04978342  0.04341815 -0.00131664 -0.01310432  0.02182267  0.00783002\n",
            " -0.07267593  0.02633633 -0.03988462 -0.02851777  0.03972638  0.08574647\n",
            "  0.01402612  0.01597632  0.04128184  0.0108789   0.04136454  0.02767798\n",
            " -0.0062806  -0.07900771 -0.01815525  0.01888531 -0.04135478  0.00869809\n",
            "  0.01140822  0.09259155 -0.07352535 -0.03282529 -0.00164993 -0.06241551\n",
            " -0.05872136  0.03013056  0.02801299 -0.025605    0.03909744 -0.01020045\n",
            " -0.01120943  0.00894779  0.01932822 -0.08134085  0.04405495 -0.06327148\n",
            " -0.05281831  0.00694708 -0.03950994  0.04284582  0.06991518 -0.03723547\n",
            "  0.05309305  0.00441463 -0.06918002  0.06062163  0.05684426 -0.03209745\n",
            " -0.06266198  0.07832886  0.00845698 -0.01909634 -0.00220504  0.061241\n",
            "  0.04131973 -0.05983321 -0.01824037 -0.02107266 -0.02697333 -0.07038905\n",
            " -0.0283213   0.04804676], shape=(512,), dtype=float32) \n",
            "\n",
            "\n"
          ]
        }
      ]
    },
    {
      "cell_type": "code",
      "source": [
        "# 1. iii) ELMO\n",
        "import tensorflow_hub as hub\n",
        "import tensorflow.compat.v1 as tf\n",
        "tf.disable_eager_execution()\n",
        "#1024 sized vectors\n",
        "elmo=hub.Module(\"https://tfhub.dev/google/elmo/3\",trainable=True)\n",
        "embeddings=elmo(\n",
        "    sentences,\n",
        "    signature=\"default\",\n",
        "    as_dict=True)[\"elmo\"]\n",
        "init=tf.initialize_all_variables()\n",
        "sess=tf.Session()\n",
        "sess.run(init)\n",
        "print(\"\\n\\n\")\n",
        "print(sess.run(embeddings[0]))\n",
        "print(\"shape=\",embeddings[0].shape)"
      ],
      "metadata": {
        "colab": {
          "base_uri": "https://localhost:8080/"
        },
        "id": "3ZffG_v1hf6M",
        "outputId": "e4ec2706-e12b-47ad-c173-7419835ff851"
      },
      "execution_count": 7,
      "outputs": [
        {
          "output_type": "stream",
          "name": "stderr",
          "text": [
            "WARNING:tensorflow:From /usr/local/lib/python3.7/dist-packages/tensorflow/python/util/tf_should_use.py:243: initialize_all_variables (from tensorflow.python.ops.variables) is deprecated and will be removed after 2017-03-02.\n",
            "Instructions for updating:\n",
            "Use `tf.global_variables_initializer` instead.\n"
          ]
        },
        {
          "output_type": "stream",
          "name": "stdout",
          "text": [
            "\n",
            "\n",
            "\n",
            "[[ 0.29287004 -0.14378013 -0.32574052 ... -0.39559263 -0.35758853\n",
            "  -0.03588088]\n",
            " [-0.59441584  0.09640743  0.50537694 ...  0.22031914  0.269769\n",
            "   0.46307266]\n",
            " [-0.1708326  -0.18744111 -0.27626696 ... -0.67550904  0.25389987\n",
            "   0.6540271 ]\n",
            " ...\n",
            " [-0.0284084  -0.04353216  0.04130162 ...  0.02583168 -0.01429836\n",
            "  -0.01650422]\n",
            " [-0.0284084  -0.04353216  0.04130162 ...  0.02583168 -0.01429836\n",
            "  -0.01650422]\n",
            " [-0.0284084  -0.04353216  0.04130162 ...  0.02583168 -0.01429836\n",
            "  -0.01650422]]\n",
            "shape= (32, 1024)\n"
          ]
        }
      ]
    },
    {
      "cell_type": "code",
      "source": [
        "# 1.iv) GPT2\n",
        "\n",
        "gp2tokenizer = transformers.GPT2Tokenizer.from_pretrained('gpt2-large')\n",
        "model = transformers.GPT2LMHeadModel.from_pretrained('gpt2-large')\n",
        "res_vectors = gp2tokenizer.encode(para, add_special_tokens=False, return_tensors=\"pt\")\n",
        "print(\"shape=\", res_vectors.shape)\n",
        "print(res_vectors)"
      ],
      "metadata": {
        "colab": {
          "base_uri": "https://localhost:8080/"
        },
        "id": "H1psy6eThjxF",
        "outputId": "32d01a15-f827-4570-88de-84c75d324e56"
      },
      "execution_count": 8,
      "outputs": [
        {
          "output_type": "stream",
          "name": "stdout",
          "text": [
            "shape= torch.Size([1, 171])\n",
            "tensor([[   32,  7322,   318,   257,  2168,   286, 13439,   326,   389,  8389,\n",
            "           290, 24870,    11,   290,   389,   477,  3519,   284,   257,  2060,\n",
            "          7243,    13, 16699,   790,  3704,   286,  3597,   345,   466,   326,\n",
            "           318,  2392,   621,   257,  1178, 13439,   815,   307,  8389,   656,\n",
            "         23549,    13,   770,   318,   780, 23549,   905,   257,  9173,   810,\n",
            "           262, 45944,  3279,   286,   281, 14268,  2221,   290,   886,    11,\n",
            "           290,  4145,  1037,   262,  9173,   766,   262,  4009,   286,   262,\n",
            "         14268,   290, 13180,   663,  1388,  2173,    13,  2547,  6111,    82,\n",
            "           460,  3994,   867,  1180,  6982,   286,  1321,    13,   317,  7322,\n",
            "           714,  3994,   257,  2168,   286,  4506,  6096,   393,   257,  2060,\n",
            "           890, 20936,   286,   257,  2276,   966,    13,   632,  1244,  6901,\n",
            "           257,  1295,    11,  2095,    11,   393,  1429,    26,  6664,   378,\n",
            "           257,  2168,   286,  2995,    26,  8996,   393,  6273,   734,   393,\n",
            "           517,  1243,    26, 36509,  3709,   656,  9376,    26,   393,  6901,\n",
            "          5640,   290,  3048,    13, 22250,   286,   262,  1611,   286,  1321,\n",
            "           484,  3994,    11,   477, 23549,  2648,  1728,  9695,    13,  1881,\n",
            "           286,   262,   749,  1593,   286,   777,   318,   257,  7243,  6827,\n",
            "            13]])\n"
          ]
        }
      ]
    },
    {
      "cell_type": "code",
      "source": [
        "# 1.v) Sentence-BERT\n",
        "\n",
        "bert = hub.KerasLayer(\"https://tfhub.dev/google/nnlm-en-dim128/2\")\n",
        "embeddings = bert(sentences)\n",
        "print(embeddings)\n",
        "print(\"shape=\",embeddings[0].shape)\n",
        "print(\"The sentence in the paragraph:\\n\",sentences[0],\"\\nis converted into vector as :\\n\", embeddings[0])"
      ],
      "metadata": {
        "colab": {
          "base_uri": "https://localhost:8080/"
        },
        "id": "z4x6awaEhrMf",
        "outputId": "11624a0a-b9ba-4d71-ffd9-aa7232f47e42"
      },
      "execution_count": 9,
      "outputs": [
        {
          "output_type": "stream",
          "name": "stdout",
          "text": [
            "Tensor(\"keras_layer/StatefulPartitionedCall:0\", shape=(None, 128), dtype=float32)\n",
            "shape= (128,)\n",
            "The sentence in the paragraph:\n",
            " A paragraph is a series of sentences that are organized and coherent, and are all related to a single topic. \n",
            "is converted into vector as :\n",
            " Tensor(\"strided_slice_3:0\", shape=(128,), dtype=float32)\n"
          ]
        }
      ]
    },
    {
      "cell_type": "code",
      "source": [
        "# 2) Named Entity Recognition\n",
        "\n",
        "nlp = spacy.load(\"en_core_web_sm\")\n",
        "res = nlp(para)\n",
        "\n",
        "for word in res.ents:\n",
        "    print(word.text,word.label_)\n",
        "    \n",
        "print(spacy.explain('GPE'))\n",
        "\n",
        "print(displacy.render(res,style=\"ent\",jupyter=True))"
      ],
      "metadata": {
        "colab": {
          "base_uri": "https://localhost:8080/",
          "height": 300
        },
        "id": "k85J1d5chu6Z",
        "outputId": "6ebd06c5-b012-4ee1-f32f-31c99ab48af4"
      },
      "execution_count": 10,
      "outputs": [
        {
          "output_type": "stream",
          "name": "stdout",
          "text": [
            "two CARDINAL\n",
            "One CARDINAL\n",
            "Countries, cities, states\n"
          ]
        },
        {
          "output_type": "display_data",
          "data": {
            "text/plain": [
              "<IPython.core.display.HTML object>"
            ],
            "text/html": [
              "<span class=\"tex2jax_ignore\"><div class=\"entities\" style=\"line-height: 2.5; direction: ltr\">A paragraph is a series of sentences that are organized and coherent, and are all related to a single topic. Almost every piece of writing you do that is longer than a few sentences should be organized into paragraphs. This is because paragraphs show a reader where the subdivisions of an essay begin and end, and thus help the reader see the organization of the essay and grasp its main points. Paragraphs can contain many different kinds of information. A paragraph could contain a series of brief examples or a single long illustration of a general point. It might describe a place, character, or process; narrate a series of events; compare or contrast \n",
              "<mark class=\"entity\" style=\"background: #e4e7d2; padding: 0.45em 0.6em; margin: 0 0.25em; line-height: 1; border-radius: 0.35em;\">\n",
              "    two\n",
              "    <span style=\"font-size: 0.8em; font-weight: bold; line-height: 1; border-radius: 0.35em; vertical-align: middle; margin-left: 0.5rem\">CARDINAL</span>\n",
              "</mark>\n",
              " or more things; classify items into categories; or describe causes and effects. Regardless of the kind of information they contain, all paragraphs share certain characteristics. \n",
              "<mark class=\"entity\" style=\"background: #e4e7d2; padding: 0.45em 0.6em; margin: 0 0.25em; line-height: 1; border-radius: 0.35em;\">\n",
              "    One\n",
              "    <span style=\"font-size: 0.8em; font-weight: bold; line-height: 1; border-radius: 0.35em; vertical-align: middle; margin-left: 0.5rem\">CARDINAL</span>\n",
              "</mark>\n",
              " of the most important of these is a topic sentence.</div></span>"
            ]
          },
          "metadata": {}
        },
        {
          "output_type": "stream",
          "name": "stdout",
          "text": [
            "None\n"
          ]
        }
      ]
    },
    {
      "cell_type": "code",
      "source": [
        "# 3) Find similar sentences (repeated sentences) from the above paragraph? (Cosine Similarity, use BERT to encode)\n",
        "\n",
        "sbert_model = SentenceTransformer('bert-base-nli-mean-tokens')\n",
        "\n",
        "se_embeddings = sbert_model.encode(sentences)\n",
        "q1_vec= sbert_model.encode(sentences[0])\n",
        "\n",
        "def cosine(u, v):\n",
        "    return np.dot(u, v) / (np.linalg.norm(u) * np.linalg.norm(v))\n",
        "\n",
        "for sent in sentences:\n",
        "    sim = cosine(q1_vec, sbert_model.encode([sent])[0])\n",
        "    # similarity == 1 - repeated sentence\n",
        "    # similarity > 0.5 - similar sentence\n",
        "    if sim>0.5:\n",
        "        print(\"Sentence1 =\",sentences[0],\"\\n \\nSentence2=\", sent, \"\\n\\nsimilarity = \", sim,end=\"\\n ----------------------------- \\n\")"
      ],
      "metadata": {
        "colab": {
          "base_uri": "https://localhost:8080/"
        },
        "id": "Yulxs9ujhw1k",
        "outputId": "4a56fb99-6e49-47da-cb2e-db0e8070cd8b"
      },
      "execution_count": 11,
      "outputs": [
        {
          "output_type": "stream",
          "name": "stdout",
          "text": [
            "Sentence1 = A paragraph is a series of sentences that are organized and coherent, and are all related to a single topic. \n",
            " \n",
            "Sentence2= A paragraph is a series of sentences that are organized and coherent, and are all related to a single topic. \n",
            "\n",
            "similarity =  1.0\n",
            " ----------------------------- \n",
            "Sentence1 = A paragraph is a series of sentences that are organized and coherent, and are all related to a single topic. \n",
            " \n",
            "Sentence2= Almost every piece of writing you do that is longer than a few sentences should be organized into paragraphs. \n",
            "\n",
            "similarity =  0.6477537\n",
            " ----------------------------- \n",
            "Sentence1 = A paragraph is a series of sentences that are organized and coherent, and are all related to a single topic. \n",
            " \n",
            "Sentence2= This is because paragraphs show a reader where the subdivisions of an essay begin and end, and thus help the reader see the organization of the essay and grasp its main points. \n",
            "\n",
            "similarity =  0.5238008\n",
            " ----------------------------- \n",
            "Sentence1 = A paragraph is a series of sentences that are organized and coherent, and are all related to a single topic. \n",
            " \n",
            "Sentence2= Paragraphs can contain many different kinds of information. \n",
            "\n",
            "similarity =  0.58162665\n",
            " ----------------------------- \n",
            "Sentence1 = A paragraph is a series of sentences that are organized and coherent, and are all related to a single topic. \n",
            " \n",
            "Sentence2= A paragraph could contain a series of brief examples or a single long illustration of a general point. \n",
            "\n",
            "similarity =  0.69272894\n",
            " ----------------------------- \n",
            "Sentence1 = A paragraph is a series of sentences that are organized and coherent, and are all related to a single topic. \n",
            " \n",
            "Sentence2= It might describe a place, character, or process; narrate a series of events; compare or contrast two or more things; classify items into categories; or describe causes and effects. \n",
            "\n",
            "similarity =  0.5040555\n",
            " ----------------------------- \n",
            "Sentence1 = A paragraph is a series of sentences that are organized and coherent, and are all related to a single topic. \n",
            " \n",
            "Sentence2= Regardless of the kind of information they contain, all paragraphs share certain characteristics. \n",
            "\n",
            "similarity =  0.78738403\n",
            " ----------------------------- \n",
            "Sentence1 = A paragraph is a series of sentences that are organized and coherent, and are all related to a single topic. \n",
            " \n",
            "Sentence2= One of the most important of these is a topic sentence. \n",
            "\n",
            "similarity =  0.5430634\n",
            " ----------------------------- \n"
          ]
        }
      ]
    },
    {
      "cell_type": "code",
      "source": [
        "# 4) POS Tagging for Above Given Paragraph\n",
        "    \n",
        "tokenized = sent_tokenize(para)\n",
        "for i in tokenized:\n",
        "\n",
        "    wordList = nltk.word_tokenize(i)\n",
        "    wordList = [word for word in wordList if word not in stop_words]\n",
        "\n",
        "    tagged = nltk.pos_tag(wordList)\n",
        " \n",
        "    print(tagged)"
      ],
      "metadata": {
        "colab": {
          "base_uri": "https://localhost:8080/"
        },
        "id": "tzMWL1m5hyW3",
        "outputId": "99318678-0d7c-4521-edf2-3c0f33da2a96"
      },
      "execution_count": 12,
      "outputs": [
        {
          "output_type": "stream",
          "name": "stdout",
          "text": [
            "[('A', 'DT'), ('paragraph', 'NN'), ('series', 'NN'), ('sentences', 'NNS'), ('organized', 'VBN'), ('coherent', 'NN'), (',', ','), ('related', 'VBN'), ('single', 'JJ'), ('topic', 'NN'), ('.', '.')]\n",
            "[('Almost', 'RB'), ('every', 'DT'), ('piece', 'NN'), ('writing', 'VBG'), ('longer', 'JJR'), ('sentences', 'NNS'), ('organized', 'VBN'), ('paragraphs', 'NN'), ('.', '.')]\n",
            "[('This', 'DT'), ('paragraphs', 'NN'), ('show', 'NN'), ('reader', 'NN'), ('subdivisions', 'NNS'), ('essay', 'VBP'), ('begin', 'JJ'), ('end', 'NN'), (',', ','), ('thus', 'RB'), ('help', 'NN'), ('reader', 'VB'), ('see', 'VB'), ('organization', 'NN'), ('essay', 'VB'), ('grasp', 'NN'), ('main', 'JJ'), ('points', 'NNS'), ('.', '.')]\n",
            "[('Paragraphs', 'NNP'), ('contain', 'VBP'), ('many', 'JJ'), ('different', 'JJ'), ('kinds', 'NNS'), ('information', 'NN'), ('.', '.')]\n",
            "[('A', 'DT'), ('paragraph', 'NN'), ('could', 'MD'), ('contain', 'VB'), ('series', 'NN'), ('brief', 'NN'), ('examples', 'VBZ'), ('single', 'JJ'), ('long', 'JJ'), ('illustration', 'NN'), ('general', 'JJ'), ('point', 'NN'), ('.', '.')]\n",
            "[('It', 'PRP'), ('might', 'MD'), ('describe', 'VB'), ('place', 'NN'), (',', ','), ('character', 'NN'), (',', ','), ('process', 'NN'), (';', ':'), ('narrate', 'JJ'), ('series', 'NN'), ('events', 'NNS'), (';', ':'), ('compare', 'VB'), ('contrast', 'NN'), ('two', 'CD'), ('things', 'NNS'), (';', ':'), ('classify', 'VB'), ('items', 'NNS'), ('categories', 'NNS'), (';', ':'), ('describe', 'JJ'), ('causes', 'NNS'), ('effects', 'NNS'), ('.', '.')]\n",
            "[('Regardless', 'RB'), ('kind', 'NN'), ('information', 'NN'), ('contain', 'NN'), (',', ','), ('paragraphs', 'JJ'), ('share', 'NN'), ('certain', 'JJ'), ('characteristics', 'NNS'), ('.', '.')]\n",
            "[('One', 'CD'), ('important', 'JJ'), ('topic', 'NN'), ('sentence', 'NN'), ('.', '.')]\n"
          ]
        }
      ]
    },
    {
      "cell_type": "code",
      "source": [],
      "metadata": {
        "id": "j81NXsQIhz3V"
      },
      "execution_count": 12,
      "outputs": []
    }
  ]
}