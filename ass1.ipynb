{
 "cells": [
  {
   "cell_type": "code",
   "execution_count": 11,
   "metadata": {},
   "outputs": [],
   "source": [
    "str1 = ['A computer network is a set of computers sharing resources located on or provided by network nodes. The computers use common communication protocols over digital interconnections to communicate with each other.',\n",
    "             'An operating system (OS) is system software that manages computer hardware, software resources, and provides common services for computer programs. Time-sharing operating systems schedule tasks for efficient use of the system and may also include accounting software for cost allocation of processor time, mass storage, printing, and other resources.',\n",
    "             'An operating system (OS) is the program that, after being initially loaded into the computer by a boot program, manages all of the other application programs in a computer. The application programs make use of the operating system by making requests for services through a defined application program interface (API).']\n",
    "\n",
    "str2 = ['A computer network is a set of computers sharing resources located on or provided by network nodes. The computers use common communication protocols over digital interconnections to communicate with each other.',\n",
    "           'An operating system (OS) is system software that manages computer hardware, software resources, and provides common services for computer programs. Time-sharing operating systems schedule tasks for efficient use of the system and may also include accounting software for cost allocation of processor time, mass storage, printing, and other resources.']\n"
   ]
  },
  {
   "cell_type": "code",
   "execution_count": 13,
   "metadata": {},
   "outputs": [],
   "source": [
    "from sklearn.feature_extraction.text import TfidfVectorizer as TF\n",
    "from sklearn.metrics.pairwise import cosine_similarity as cs\n",
    "vectorizer = TF()\n"
   ]
  },
  {
   "cell_type": "code",
   "execution_count": 14,
   "metadata": {},
   "outputs": [
    {
     "name": "stdout",
     "output_type": "stream",
     "text": [
      "TF-IDF Matrix Shape for DOCUMENT 1, 2 and 3 :  (3, 72)\n"
     ]
    }
   ],
   "source": [
    "doc = vectorizer.fit_transform(str1)\n",
    "print(\"TF-IDF Matrix Shape for DOCUMENT 1, 2 and 3 : \", doc.shape)"
   ]
  },
  {
   "cell_type": "code",
   "execution_count": 15,
   "metadata": {},
   "outputs": [
    {
     "name": "stdout",
     "output_type": "stream",
     "text": [
      "Cosine Similarity Matrix Between Document 1, 2 and 3 : \n",
      "[[1.         0.12397288 0.13367998]\n",
      " [0.12397288 1.         0.28562751]\n",
      " [0.13367998 0.28562751 1.        ]] \n",
      "\n"
     ]
    }
   ],
   "source": [
    "cosine_sim123 = cs(doc, doc)\n",
    "print(\"Cosine Similarity Matrix Between Document 1, 2 and 3 : \")\n",
    "print(cosine_sim123, \"\\n\")"
   ]
  },
  {
   "cell_type": "code",
   "execution_count": 16,
   "metadata": {},
   "outputs": [
    {
     "name": "stdout",
     "output_type": "stream",
     "text": [
      "TF-IDF Matrix Shape for DOCUMENT 1 & 2 :  (2, 55)\n"
     ]
    }
   ],
   "source": [
    "doc1 = vectorizer.fit_transform(str2)\n",
    "print(\"TF-IDF Matrix Shape for DOCUMENT 1 & 2 : \", doc1.shape)"
   ]
  },
  {
   "cell_type": "code",
   "execution_count": 18,
   "metadata": {},
   "outputs": [
    {
     "name": "stdout",
     "output_type": "stream",
     "text": [
      "Cosine Similarity Matrix Between DOCUMENT 1 & 2 : \n",
      "[[1.         0.13117019]\n",
      " [0.13117019 1.        ]]\n"
     ]
    }
   ],
   "source": [
    "cosine_sim12 = cs(doc1, doc1)\n",
    "print(\"Cosine Similarity Matrix Between DOCUMENT 1 & 2 : \")\n",
    "print(cosine_sim12)"
   ]
  },
  {
   "cell_type": "code",
   "execution_count": null,
   "metadata": {},
   "outputs": [],
   "source": []
  }
 ],
 "metadata": {
  "kernelspec": {
   "display_name": "Python 3.10.4 64-bit",
   "language": "python",
   "name": "python3"
  },
  "language_info": {
   "codemirror_mode": {
    "name": "ipython",
    "version": 3
   },
   "file_extension": ".py",
   "mimetype": "text/x-python",
   "name": "python",
   "nbconvert_exporter": "python",
   "pygments_lexer": "ipython3",
   "version": "3.10.4"
  },
  "orig_nbformat": 4,
  "vscode": {
   "interpreter": {
    "hash": "10c0eea4947e627f41ae212ed997354d807a69e817346ad66573ec79cd8a274b"
   }
  }
 },
 "nbformat": 4,
 "nbformat_minor": 2
}
